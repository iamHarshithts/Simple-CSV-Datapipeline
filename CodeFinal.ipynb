{
  "nbformat": 4,
  "nbformat_minor": 0,
  "metadata": {
    "colab": {
      "provenance": []
    },
    "kernelspec": {
      "name": "python3",
      "display_name": "Python 3"
    },
    "language_info": {
      "name": "python"
    }
  },
  "cells": [
    {
      "cell_type": "markdown",
      "source": [
        "creating spark session and reading the csv file"
      ],
      "metadata": {
        "id": "4-B5TOtTfbUx"
      }
    },
    {
      "cell_type": "code",
      "source": [
        "from pyspark.sql import SparkSession\n",
        "\n",
        "spark = SparkSession.builder.appName(\"ReadCSV\").getOrCreate()\n",
        "df = spark.read.csv(\"/content/college_student_placement_dataset.csv\", header=True, inferSchema=True)\n"
      ],
      "metadata": {
        "id": "U201BiXAfg1k"
      },
      "execution_count": 25,
      "outputs": []
    },
    {
      "cell_type": "code",
      "source": [
        "df.show()"
      ],
      "metadata": {
        "colab": {
          "base_uri": "https://localhost:8080/"
        },
        "id": "YjJcv9ttfxFC",
        "outputId": "3068ffc7-bd12-46f1-95cc-a590b5f28632"
      },
      "execution_count": 26,
      "outputs": [
        {
          "output_type": "stream",
          "name": "stdout",
          "text": [
            "+----------+---+---------------+-----+--------------------+---------------------+----------------------+--------------------+------------------+---------+\n",
            "|College_ID| IQ|Prev_Sem_Result| CGPA|Academic_Performance|Internship_Experience|Extra_Curricular_Score|Communication_Skills|Projects_Completed|Placement|\n",
            "+----------+---+---------------+-----+--------------------+---------------------+----------------------+--------------------+------------------+---------+\n",
            "|   CLG0030|107|           6.61| 6.28|                   8|                   No|                     8|                   8|                 4|       No|\n",
            "|   CLG0061| 97|           5.52| 5.37|                   8|                   No|                     7|                   8|                 0|       No|\n",
            "|   CLG0036|109|           5.36| 5.83|                   9|                   No|                     3|                   1|                 1|       No|\n",
            "|   CLG0055|122|           5.47| 5.75|                   6|                  Yes|                     1|                   6|                 1|       No|\n",
            "|   CLG0004| 96|           7.91| 7.69|                   7|                   No|                     8|                  10|                 2|       No|\n",
            "|   CLG0015| 96|           5.26| 5.32|                   7|                   No|                     5|                   8|                 0|       No|\n",
            "|   CLG0071|123|           6.68| 6.58|                   5|                   No|                     7|                   8|                 2|      Yes|\n",
            "|   CLG0096|111|           8.77| 8.76|                   7|                   No|                     3|                   1|                 2|      Yes|\n",
            "|   CLG0097| 92|           6.47| 6.33|                   9|                   No|                     7|                   8|                 5|       No|\n",
            "|   CLG0057|108|           8.82|  8.6|                   4|                   No|                     5|                   9|                 1|       No|\n",
            "|   CLG0063| 93|           8.73|  8.9|                   2|                  Yes|                     5|                   6|                 0|       No|\n",
            "|   CLG0077| 93|           6.23| 6.51|                   8|                   No|                     5|                   7|                 4|       No|\n",
            "|   CLG0064|103|           8.64| 9.01|                   7|                  Yes|                     8|                   6|                 1|       No|\n",
            "|   CLG0017| 71|           8.74|  8.4|                   6|                   No|                     0|                   5|                 2|       No|\n",
            "|   CLG0053| 74|           6.99| 7.31|                   7|                   No|                     0|                   1|                 2|       No|\n",
            "|   CLG0040| 91|           6.05|  5.8|                   3|                   No|                     4|                   2|                 3|       No|\n",
            "|   CLG0070| 84|           7.61| 7.54|                   6|                   No|                     0|                  10|                 0|       No|\n",
            "|   CLG0050|104|           9.61|10.01|                  10|                  Yes|                     9|                   2|                 4|       No|\n",
            "|   CLG0068| 86|            8.2| 8.15|                   7|                   No|                     8|                   9|                 4|      Yes|\n",
            "|   CLG0015| 78|           5.86| 5.56|                   7|                  Yes|                     3|                   6|                 2|       No|\n",
            "+----------+---+---------------+-----+--------------------+---------------------+----------------------+--------------------+------------------+---------+\n",
            "only showing top 20 rows\n",
            "\n"
          ]
        }
      ]
    },
    {
      "cell_type": "markdown",
      "source": [
        "count the missing value"
      ],
      "metadata": {
        "id": "KIQv_pr2geM-"
      }
    },
    {
      "cell_type": "code",
      "source": [
        "from pyspark.sql.functions import col, count, when\n",
        "df.select([count(when(col(c).isNull(), c)).alias(c) for c in df.columns]).show()\n"
      ],
      "metadata": {
        "colab": {
          "base_uri": "https://localhost:8080/"
        },
        "id": "PGnIGfIggSrh",
        "outputId": "d21ba6bb-d516-46e6-f3d8-70fdf3bd3219"
      },
      "execution_count": 27,
      "outputs": [
        {
          "output_type": "stream",
          "name": "stdout",
          "text": [
            "+----------+---+---------------+----+--------------------+---------------------+----------------------+--------------------+------------------+---------+\n",
            "|College_ID| IQ|Prev_Sem_Result|CGPA|Academic_Performance|Internship_Experience|Extra_Curricular_Score|Communication_Skills|Projects_Completed|Placement|\n",
            "+----------+---+---------------+----+--------------------+---------------------+----------------------+--------------------+------------------+---------+\n",
            "|         0|  0|              0|   0|                   0|                    0|                     0|                   0|                 0|        0|\n",
            "+----------+---+---------------+----+--------------------+---------------------+----------------------+--------------------+------------------+---------+\n",
            "\n"
          ]
        }
      ]
    },
    {
      "cell_type": "markdown",
      "source": [
        "checking the datatypes fixing datatype. converting to number  convert yes no to 0 1"
      ],
      "metadata": {
        "id": "ChkuV-BRgjtw"
      }
    },
    {
      "cell_type": "code",
      "source": [
        "from pyspark.sql.functions import when\n",
        "\n",
        "df = df.withColumn(\"Internship_Experience\", when(col(\"Internship_Experience\") == \"Yes\", 1).otherwise(0))\n",
        "df = df.withColumn(\"Placement\", when(col(\"Placement\") == \"Yes\", 1).otherwise(0))\n",
        "df.show()"
      ],
      "metadata": {
        "colab": {
          "base_uri": "https://localhost:8080/"
        },
        "id": "IZlAKWgYgjcp",
        "outputId": "23e73ce9-6022-4426-f8d2-51f290a70b9c"
      },
      "execution_count": 28,
      "outputs": [
        {
          "output_type": "stream",
          "name": "stdout",
          "text": [
            "+----------+---+---------------+-----+--------------------+---------------------+----------------------+--------------------+------------------+---------+\n",
            "|College_ID| IQ|Prev_Sem_Result| CGPA|Academic_Performance|Internship_Experience|Extra_Curricular_Score|Communication_Skills|Projects_Completed|Placement|\n",
            "+----------+---+---------------+-----+--------------------+---------------------+----------------------+--------------------+------------------+---------+\n",
            "|   CLG0030|107|           6.61| 6.28|                   8|                    0|                     8|                   8|                 4|        0|\n",
            "|   CLG0061| 97|           5.52| 5.37|                   8|                    0|                     7|                   8|                 0|        0|\n",
            "|   CLG0036|109|           5.36| 5.83|                   9|                    0|                     3|                   1|                 1|        0|\n",
            "|   CLG0055|122|           5.47| 5.75|                   6|                    1|                     1|                   6|                 1|        0|\n",
            "|   CLG0004| 96|           7.91| 7.69|                   7|                    0|                     8|                  10|                 2|        0|\n",
            "|   CLG0015| 96|           5.26| 5.32|                   7|                    0|                     5|                   8|                 0|        0|\n",
            "|   CLG0071|123|           6.68| 6.58|                   5|                    0|                     7|                   8|                 2|        1|\n",
            "|   CLG0096|111|           8.77| 8.76|                   7|                    0|                     3|                   1|                 2|        1|\n",
            "|   CLG0097| 92|           6.47| 6.33|                   9|                    0|                     7|                   8|                 5|        0|\n",
            "|   CLG0057|108|           8.82|  8.6|                   4|                    0|                     5|                   9|                 1|        0|\n",
            "|   CLG0063| 93|           8.73|  8.9|                   2|                    1|                     5|                   6|                 0|        0|\n",
            "|   CLG0077| 93|           6.23| 6.51|                   8|                    0|                     5|                   7|                 4|        0|\n",
            "|   CLG0064|103|           8.64| 9.01|                   7|                    1|                     8|                   6|                 1|        0|\n",
            "|   CLG0017| 71|           8.74|  8.4|                   6|                    0|                     0|                   5|                 2|        0|\n",
            "|   CLG0053| 74|           6.99| 7.31|                   7|                    0|                     0|                   1|                 2|        0|\n",
            "|   CLG0040| 91|           6.05|  5.8|                   3|                    0|                     4|                   2|                 3|        0|\n",
            "|   CLG0070| 84|           7.61| 7.54|                   6|                    0|                     0|                  10|                 0|        0|\n",
            "|   CLG0050|104|           9.61|10.01|                  10|                    1|                     9|                   2|                 4|        0|\n",
            "|   CLG0068| 86|            8.2| 8.15|                   7|                    0|                     8|                   9|                 4|        1|\n",
            "|   CLG0015| 78|           5.86| 5.56|                   7|                    1|                     3|                   6|                 2|        0|\n",
            "+----------+---+---------------+-----+--------------------+---------------------+----------------------+--------------------+------------------+---------+\n",
            "only showing top 20 rows\n",
            "\n"
          ]
        }
      ]
    },
    {
      "cell_type": "markdown",
      "source": [],
      "metadata": {
        "id": "n_9lRRByhXOA"
      }
    },
    {
      "cell_type": "code",
      "source": [
        "df.count() - df.dropDuplicates().count() #check duplicate rows\n"
      ],
      "metadata": {
        "colab": {
          "base_uri": "https://localhost:8080/"
        },
        "id": "kYOM-BqFhpHD",
        "outputId": "f9cc2f54-9a9f-40ce-918b-3eb6135883a9"
      },
      "execution_count": null,
      "outputs": [
        {
          "output_type": "execute_result",
          "data": {
            "text/plain": [
              "0"
            ]
          },
          "metadata": {},
          "execution_count": 12
        }
      ]
    },
    {
      "cell_type": "markdown",
      "source": [
        "renaming the few coulumns\n"
      ],
      "metadata": {
        "id": "IQVc3ep9hELh"
      }
    },
    {
      "cell_type": "code",
      "source": [
        "df = df.withColumnRenamed(\"Prev_Sem_Result\", \"Previous_Sem_Percentage\") \\\n",
        "       .withColumnRenamed(\"Projects_Completed\", \"Project_Count\") \\\n",
        "       .withColumnRenamed(\"Placement_Status\", \"Placed\")\n",
        "df.show(20)"
      ],
      "metadata": {
        "colab": {
          "base_uri": "https://localhost:8080/"
        },
        "id": "vp3hHjplh-N1",
        "outputId": "5ffb0d82-ae5b-41bc-87b8-321963e96ee0"
      },
      "execution_count": 29,
      "outputs": [
        {
          "output_type": "stream",
          "name": "stdout",
          "text": [
            "+----------+---+-----------------------+-----+--------------------+---------------------+----------------------+--------------------+-------------+---------+\n",
            "|College_ID| IQ|Previous_Sem_Percentage| CGPA|Academic_Performance|Internship_Experience|Extra_Curricular_Score|Communication_Skills|Project_Count|Placement|\n",
            "+----------+---+-----------------------+-----+--------------------+---------------------+----------------------+--------------------+-------------+---------+\n",
            "|   CLG0030|107|                   6.61| 6.28|                   8|                    0|                     8|                   8|            4|        0|\n",
            "|   CLG0061| 97|                   5.52| 5.37|                   8|                    0|                     7|                   8|            0|        0|\n",
            "|   CLG0036|109|                   5.36| 5.83|                   9|                    0|                     3|                   1|            1|        0|\n",
            "|   CLG0055|122|                   5.47| 5.75|                   6|                    1|                     1|                   6|            1|        0|\n",
            "|   CLG0004| 96|                   7.91| 7.69|                   7|                    0|                     8|                  10|            2|        0|\n",
            "|   CLG0015| 96|                   5.26| 5.32|                   7|                    0|                     5|                   8|            0|        0|\n",
            "|   CLG0071|123|                   6.68| 6.58|                   5|                    0|                     7|                   8|            2|        1|\n",
            "|   CLG0096|111|                   8.77| 8.76|                   7|                    0|                     3|                   1|            2|        1|\n",
            "|   CLG0097| 92|                   6.47| 6.33|                   9|                    0|                     7|                   8|            5|        0|\n",
            "|   CLG0057|108|                   8.82|  8.6|                   4|                    0|                     5|                   9|            1|        0|\n",
            "|   CLG0063| 93|                   8.73|  8.9|                   2|                    1|                     5|                   6|            0|        0|\n",
            "|   CLG0077| 93|                   6.23| 6.51|                   8|                    0|                     5|                   7|            4|        0|\n",
            "|   CLG0064|103|                   8.64| 9.01|                   7|                    1|                     8|                   6|            1|        0|\n",
            "|   CLG0017| 71|                   8.74|  8.4|                   6|                    0|                     0|                   5|            2|        0|\n",
            "|   CLG0053| 74|                   6.99| 7.31|                   7|                    0|                     0|                   1|            2|        0|\n",
            "|   CLG0040| 91|                   6.05|  5.8|                   3|                    0|                     4|                   2|            3|        0|\n",
            "|   CLG0070| 84|                   7.61| 7.54|                   6|                    0|                     0|                  10|            0|        0|\n",
            "|   CLG0050|104|                   9.61|10.01|                  10|                    1|                     9|                   2|            4|        0|\n",
            "|   CLG0068| 86|                    8.2| 8.15|                   7|                    0|                     8|                   9|            4|        1|\n",
            "|   CLG0015| 78|                   5.86| 5.56|                   7|                    1|                     3|                   6|            2|        0|\n",
            "+----------+---+-----------------------+-----+--------------------+---------------------+----------------------+--------------------+-------------+---------+\n",
            "only showing top 20 rows\n",
            "\n"
          ]
        }
      ]
    },
    {
      "cell_type": "code",
      "source": [
        "from pyspark.sql.functions import round, expr\n",
        "\n",
        "df = df.withColumn(\n",
        "    \"Average_Score\",\n",
        "    round((col(\"CGPA\") + col(\"Previous_Sem_Percentage\") + col(\"IQ\")) / 3, 2)\n",
        ")\n",
        "df.show()"
      ],
      "metadata": {
        "id": "ZOAO8r5IiFbl",
        "colab": {
          "base_uri": "https://localhost:8080/"
        },
        "outputId": "43e775cd-146a-4ee2-ed53-2e51917a5971"
      },
      "execution_count": 31,
      "outputs": [
        {
          "output_type": "stream",
          "name": "stdout",
          "text": [
            "+----------+---+-----------------------+-----+--------------------+---------------------+----------------------+--------------------+-------------+---------+-------------+\n",
            "|College_ID| IQ|Previous_Sem_Percentage| CGPA|Academic_Performance|Internship_Experience|Extra_Curricular_Score|Communication_Skills|Project_Count|Placement|Average_Score|\n",
            "+----------+---+-----------------------+-----+--------------------+---------------------+----------------------+--------------------+-------------+---------+-------------+\n",
            "|   CLG0030|107|                   6.61| 6.28|                   8|                    0|                     8|                   8|            4|        0|        39.96|\n",
            "|   CLG0061| 97|                   5.52| 5.37|                   8|                    0|                     7|                   8|            0|        0|        35.96|\n",
            "|   CLG0036|109|                   5.36| 5.83|                   9|                    0|                     3|                   1|            1|        0|        40.06|\n",
            "|   CLG0055|122|                   5.47| 5.75|                   6|                    1|                     1|                   6|            1|        0|        44.41|\n",
            "|   CLG0004| 96|                   7.91| 7.69|                   7|                    0|                     8|                  10|            2|        0|         37.2|\n",
            "|   CLG0015| 96|                   5.26| 5.32|                   7|                    0|                     5|                   8|            0|        0|        35.53|\n",
            "|   CLG0071|123|                   6.68| 6.58|                   5|                    0|                     7|                   8|            2|        1|        45.42|\n",
            "|   CLG0096|111|                   8.77| 8.76|                   7|                    0|                     3|                   1|            2|        1|        42.84|\n",
            "|   CLG0097| 92|                   6.47| 6.33|                   9|                    0|                     7|                   8|            5|        0|        34.93|\n",
            "|   CLG0057|108|                   8.82|  8.6|                   4|                    0|                     5|                   9|            1|        0|        41.81|\n",
            "|   CLG0063| 93|                   8.73|  8.9|                   2|                    1|                     5|                   6|            0|        0|        36.88|\n",
            "|   CLG0077| 93|                   6.23| 6.51|                   8|                    0|                     5|                   7|            4|        0|        35.25|\n",
            "|   CLG0064|103|                   8.64| 9.01|                   7|                    1|                     8|                   6|            1|        0|        40.22|\n",
            "|   CLG0017| 71|                   8.74|  8.4|                   6|                    0|                     0|                   5|            2|        0|        29.38|\n",
            "|   CLG0053| 74|                   6.99| 7.31|                   7|                    0|                     0|                   1|            2|        0|        29.43|\n",
            "|   CLG0040| 91|                   6.05|  5.8|                   3|                    0|                     4|                   2|            3|        0|        34.28|\n",
            "|   CLG0070| 84|                   7.61| 7.54|                   6|                    0|                     0|                  10|            0|        0|        33.05|\n",
            "|   CLG0050|104|                   9.61|10.01|                  10|                    1|                     9|                   2|            4|        0|        41.21|\n",
            "|   CLG0068| 86|                    8.2| 8.15|                   7|                    0|                     8|                   9|            4|        1|        34.12|\n",
            "|   CLG0015| 78|                   5.86| 5.56|                   7|                    1|                     3|                   6|            2|        0|        29.81|\n",
            "+----------+---+-----------------------+-----+--------------------+---------------------+----------------------+--------------------+-------------+---------+-------------+\n",
            "only showing top 20 rows\n",
            "\n"
          ]
        }
      ]
    },
    {
      "cell_type": "markdown",
      "source": [
        "Loading the file to new Csv File"
      ],
      "metadata": {
        "id": "K9DiOLnSnyXG"
      }
    },
    {
      "cell_type": "markdown",
      "source": [
        "converting the filtered data and load to a new csv file"
      ],
      "metadata": {
        "id": "tRQJuwC0mpR1"
      }
    },
    {
      "cell_type": "code",
      "source": [
        "from pyspark.sql.functions import when\n",
        "\n",
        "df = df.withColumn(\"Placement\", when(col(\"Placement\") == 1, \"Placed\").otherwise(\"Not Placed\"))\n",
        "df.show()"
      ],
      "metadata": {
        "colab": {
          "base_uri": "https://localhost:8080/"
        },
        "id": "YxuCnL45xzqW",
        "outputId": "61253d9d-1625-4a4d-ef84-5bb794aa0b91"
      },
      "execution_count": 32,
      "outputs": [
        {
          "output_type": "stream",
          "name": "stdout",
          "text": [
            "+----------+---+-----------------------+-----+--------------------+---------------------+----------------------+--------------------+-------------+----------+-------------+\n",
            "|College_ID| IQ|Previous_Sem_Percentage| CGPA|Academic_Performance|Internship_Experience|Extra_Curricular_Score|Communication_Skills|Project_Count| Placement|Average_Score|\n",
            "+----------+---+-----------------------+-----+--------------------+---------------------+----------------------+--------------------+-------------+----------+-------------+\n",
            "|   CLG0030|107|                   6.61| 6.28|                   8|                    0|                     8|                   8|            4|Not Placed|        39.96|\n",
            "|   CLG0061| 97|                   5.52| 5.37|                   8|                    0|                     7|                   8|            0|Not Placed|        35.96|\n",
            "|   CLG0036|109|                   5.36| 5.83|                   9|                    0|                     3|                   1|            1|Not Placed|        40.06|\n",
            "|   CLG0055|122|                   5.47| 5.75|                   6|                    1|                     1|                   6|            1|Not Placed|        44.41|\n",
            "|   CLG0004| 96|                   7.91| 7.69|                   7|                    0|                     8|                  10|            2|Not Placed|         37.2|\n",
            "|   CLG0015| 96|                   5.26| 5.32|                   7|                    0|                     5|                   8|            0|Not Placed|        35.53|\n",
            "|   CLG0071|123|                   6.68| 6.58|                   5|                    0|                     7|                   8|            2|    Placed|        45.42|\n",
            "|   CLG0096|111|                   8.77| 8.76|                   7|                    0|                     3|                   1|            2|    Placed|        42.84|\n",
            "|   CLG0097| 92|                   6.47| 6.33|                   9|                    0|                     7|                   8|            5|Not Placed|        34.93|\n",
            "|   CLG0057|108|                   8.82|  8.6|                   4|                    0|                     5|                   9|            1|Not Placed|        41.81|\n",
            "|   CLG0063| 93|                   8.73|  8.9|                   2|                    1|                     5|                   6|            0|Not Placed|        36.88|\n",
            "|   CLG0077| 93|                   6.23| 6.51|                   8|                    0|                     5|                   7|            4|Not Placed|        35.25|\n",
            "|   CLG0064|103|                   8.64| 9.01|                   7|                    1|                     8|                   6|            1|Not Placed|        40.22|\n",
            "|   CLG0017| 71|                   8.74|  8.4|                   6|                    0|                     0|                   5|            2|Not Placed|        29.38|\n",
            "|   CLG0053| 74|                   6.99| 7.31|                   7|                    0|                     0|                   1|            2|Not Placed|        29.43|\n",
            "|   CLG0040| 91|                   6.05|  5.8|                   3|                    0|                     4|                   2|            3|Not Placed|        34.28|\n",
            "|   CLG0070| 84|                   7.61| 7.54|                   6|                    0|                     0|                  10|            0|Not Placed|        33.05|\n",
            "|   CLG0050|104|                   9.61|10.01|                  10|                    1|                     9|                   2|            4|Not Placed|        41.21|\n",
            "|   CLG0068| 86|                    8.2| 8.15|                   7|                    0|                     8|                   9|            4|    Placed|        34.12|\n",
            "|   CLG0015| 78|                   5.86| 5.56|                   7|                    1|                     3|                   6|            2|Not Placed|        29.81|\n",
            "+----------+---+-----------------------+-----+--------------------+---------------------+----------------------+--------------------+-------------+----------+-------------+\n",
            "only showing top 20 rows\n",
            "\n"
          ]
        }
      ]
    },
    {
      "cell_type": "code",
      "source": [
        "import shutil\n",
        "import os\n",
        "df.coalesce(1).write.csv(\"college_output_single\", header=True, mode=\"overwrite\")\n",
        "\n",
        "\n",
        "\n",
        "# Find the part file inside the folder\n",
        "for file in os.listdir(\"college_output_single\"):\n",
        "    if file.startswith(\"part\") and file.endswith(\".csv\"):\n",
        "        shutil.move(f\"college_output_single/{file}\", \"FinalCollegeDetails.csv\")\n",
        "        break\n"
      ],
      "metadata": {
        "id": "PRTnhf560Fml"
      },
      "execution_count": 33,
      "outputs": []
    }
  ]
}